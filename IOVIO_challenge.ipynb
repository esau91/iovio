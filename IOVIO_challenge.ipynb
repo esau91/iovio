{
 "cells": [
  {
   "cell_type": "code",
   "execution_count": 88,
   "id": "956bb79e-f8c3-49d9-9a2c-ea1dd680f0ae",
   "metadata": {},
   "outputs": [],
   "source": [
    "# Import libraries\n",
    "from pyspark import SparkContext\n",
    "from pyspark.sql import SparkSession\n",
    "from pyspark.sql.functions import arrays_zip, array_distinct, col, explode, substring, lit, when, size, from_unixtime, unix_timestamp, expr, sum, avg, max, min, mean, count, countDistinct, datediff"
   ]
  },
  {
   "cell_type": "code",
   "execution_count": 2,
   "id": "992694ce-c095-48ed-a7ae-4bd55fe1af55",
   "metadata": {},
   "outputs": [],
   "source": [
    "# spark session & spark context\n",
    "sc = SparkContext()\n",
    "spark = SparkSession.builder.appName('iovio').getOrCreate()"
   ]
  },
  {
   "cell_type": "raw",
   "id": "bf782625-3c51-49f7-b1d6-41dcd718f088",
   "metadata": {},
   "source": [
    "******* User Data (CSV) *******"
   ]
  },
  {
   "cell_type": "code",
   "execution_count": 3,
   "id": "f90de2f6-c906-4c53-b790-2a6988bf6406",
   "metadata": {},
   "outputs": [],
   "source": [
    "df_users = spark.read.csv('/Users/esau/Downloads/IOVIO/users.csv', \\\n",
    "                            header = True)"
   ]
  },
  {
   "cell_type": "raw",
   "id": "5c2b4357-fa5f-42e8-bc55-6f3dc1201052",
   "metadata": {},
   "source": [
    "******* Result JSON files *******"
   ]
  },
  {
   "cell_type": "code",
   "execution_count": 13,
   "id": "e2628e40-fad1-4d92-93c5-f7893cd3198d",
   "metadata": {},
   "outputs": [],
   "source": [
    "df_result = spark.read.json('/Users/esau/Downloads/IOVIO/results/*-result.json')"
   ]
  },
  {
   "cell_type": "code",
   "execution_count": 14,
   "id": "2dbc8cdd-c11b-439f-bfd9-c15797686545",
   "metadata": {},
   "outputs": [
    {
     "name": "stdout",
     "output_type": "stream",
     "text": [
      "root\n",
      " |-- attachments: array (nullable = true)\n",
      " |    |-- element: struct (containsNull = true)\n",
      " |    |    |-- name: string (nullable = true)\n",
      " |    |    |-- source: string (nullable = true)\n",
      " |    |    |-- type: string (nullable = true)\n",
      " |-- description: string (nullable = true)\n",
      " |-- historyId: string (nullable = true)\n",
      " |-- labels: array (nullable = true)\n",
      " |    |-- element: struct (containsNull = true)\n",
      " |    |    |-- name: string (nullable = true)\n",
      " |    |    |-- value: string (nullable = true)\n",
      " |-- links: array (nullable = true)\n",
      " |    |-- element: struct (containsNull = true)\n",
      " |    |    |-- name: string (nullable = true)\n",
      " |    |    |-- type: string (nullable = true)\n",
      " |    |    |-- url: string (nullable = true)\n",
      " |-- name: string (nullable = true)\n",
      " |-- parameters: array (nullable = true)\n",
      " |    |-- element: struct (containsNull = true)\n",
      " |    |    |-- name: string (nullable = true)\n",
      " |    |    |-- value: string (nullable = true)\n",
      " |-- stage: string (nullable = true)\n",
      " |-- start: long (nullable = true)\n",
      " |-- status: string (nullable = true)\n",
      " |-- statusDetails: struct (nullable = true)\n",
      " |    |-- message: string (nullable = true)\n",
      " |-- steps: array (nullable = true)\n",
      " |    |-- element: struct (containsNull = true)\n",
      " |    |    |-- attachments: array (nullable = true)\n",
      " |    |    |    |-- element: struct (containsNull = true)\n",
      " |    |    |    |    |-- name: string (nullable = true)\n",
      " |    |    |    |    |-- source: string (nullable = true)\n",
      " |    |    |    |    |-- type: string (nullable = true)\n",
      " |    |    |-- name: string (nullable = true)\n",
      " |    |    |-- parameters: array (nullable = true)\n",
      " |    |    |    |-- element: string (containsNull = true)\n",
      " |    |    |-- stage: string (nullable = true)\n",
      " |    |    |-- start: long (nullable = true)\n",
      " |    |    |-- status: string (nullable = true)\n",
      " |    |    |-- statusDetails: struct (nullable = true)\n",
      " |    |    |    |-- message: string (nullable = true)\n",
      " |    |    |-- steps: array (nullable = true)\n",
      " |    |    |    |-- element: string (containsNull = true)\n",
      " |    |    |-- stop: long (nullable = true)\n",
      " |-- stop: long (nullable = true)\n",
      " |-- uuid: string (nullable = true)\n",
      "\n",
      "+--------------------+-----------+--------------------+--------------------+--------------------+---------------------+--------------------+--------+-------------+------+-------------+--------------------+-------------+--------------------+\n",
      "|         attachments|description|           historyId|              labels|               links|                 name|          parameters|   stage|        start|status|statusDetails|               steps|         stop|                uuid|\n",
      "+--------------------+-----------+--------------------+--------------------+--------------------+---------------------+--------------------+--------+-------------+------+-------------+--------------------+-------------+--------------------+\n",
      "|[{wdio-log, ddcae...|        SEO|189e9f7a8cb436a35...|[{thread, 7}, {fe...|[{EECK-6744, tms,...|(◕ヮ◕)SPA - Metata...|[{locale, be}, {l...|finished|1609807175167|passed|           {}|[{[], I am on loc...|1609807203296|fa2259dc-8db5-47a...|\n",
      "|[{wdio-log, 5478b...|        SEO|4835592a049391492...|[{thread, 2}, {fe...|[{EECK-6744, tms,...|(◕ヮ◕)SPA - Metata...|[{locale, lu}, {l...|finished|1609807175906|passed|           {}|[{[], I am on loc...|1609807202470|f4af646f-821c-4ea...|\n",
      "|[{wdio-log, fd686...|        SEO|e0e3d7850b3e748b3...|[{thread, 6}, {fe...|[{EECK-6744, tms,...|(◕ヮ◕)SPA - Metata...|[{locale, be}, {l...|finished|1609807175423|passed|           {}|[{[], I am on loc...|1609807204701|e83ab84e-b94d-473...|\n",
      "|[{wdio-log, c2992...|        SEO|65a0ce8472f7a5135...|[{thread, 1}, {fe...|[{EECK-6744, tms,...|(◕ヮ◕)SPA - Metata...|[{locale, lu}, {l...|finished|1609807186551|passed|           {}|[{[], I am on loc...|1609807207693|825bc5e2-2b16-49d...|\n",
      "|[{wdio-log, ddd16...|        SEO|02483bb2611816a55...|[{thread, 5}, {fe...|[{EECK-6441, tms,...|(◕ヮ◕)SPA - Metata...|[{locale, ru}, {l...|finished|1609807171024|passed|           {}|[{[], I am on loc...|1609807189816|1105e77e-17f8-44e...|\n",
      "|[{wdio-log, 46454...|        SEO|4bfe4106553ef98c1...|[{thread, 7}, {fe...|[{EECK-6441, tms,...|(◕ヮ◕)SPA - Metata...|[{locale, uk}, {l...|finished|1609807157890|passed|           {}|[{[], I am on loc...|1609807175113|c2cfdc64-80bf-44b...|\n",
      "|[{wdio-log, c899a...|        SEO|409cb67608e6b6ea3...|[{thread, 5}, {fe...|[{EECK-6441, tms,...|(◕ヮ◕)SPA - Metata...|[{locale, de}, {l...|finished|1609807153911|passed|           {}|[{[], I am on loc...|1609807170994|d5d4a7d7-1169-44c...|\n",
      "|[{wdio-log, 7a341...|        SEO|de852c4dd94e5da0a...|[{thread, 3}, {fe...|[{EECK-6441, tms,...|(◕ヮ◕)SPA - Metata...|[{locale, ru}, {l...|finished|1609807171422|passed|           {}|[{[], I am on loc...|1609807187863|3ab9c834-8284-4e8...|\n",
      "|[{wdio-log, 40205...|        SEO|20469ee5031db49c4...|[{thread, 6}, {fe...|[{EECK-6441, tms,...|(◕ヮ◕)SPA - Metata...|[{locale, uk}, {l...|finished|1609807158787|passed|           {}|[{[], I am on loc...|1609807175388|6f7f6c07-ed4b-44a...|\n",
      "|[{wdio-log, 390aa...|        SEO|bc8a1d5ff9379f5e6...|[{thread, 3}, {fe...|[{EECK-6441, tms,...|(◕ヮ◕)SPA - Metata...|[{locale, de}, {l...|finished|1609807154822|passed|           {}|[{[], I am on loc...|1609807171382|f878a44a-8e20-43e...|\n",
      "+--------------------+-----------+--------------------+--------------------+--------------------+---------------------+--------------------+--------+-------------+------+-------------+--------------------+-------------+--------------------+\n",
      "only showing top 10 rows\n",
      "\n"
     ]
    },
    {
     "data": {
      "text/plain": [
       "1722"
      ]
     },
     "execution_count": 14,
     "metadata": {},
     "output_type": "execute_result"
    }
   ],
   "source": [
    "df_result.printSchema()\n",
    "df_result.show(10)\n",
    "df_result.count()"
   ]
  },
  {
   "cell_type": "code",
   "execution_count": 15,
   "id": "1dd0dae2-6b77-4ddb-bd97-a8d0aa91e0ff",
   "metadata": {},
   "outputs": [],
   "source": [
    "# Count and Add the number of steps per test\n",
    "df_result = df_result.withColumn('steps_count', size(array_distinct('steps')))"
   ]
  },
  {
   "cell_type": "code",
   "execution_count": 79,
   "id": "ffc376d8-2cf3-45eb-af2b-83b69128f722",
   "metadata": {},
   "outputs": [],
   "source": [
    "# Explode into rows by attachment source   \n",
    "df_result2 = df_result.select(df_result.historyId, df_result.uuid, df_result.start, df_result.stop, df_result.description, df_result.steps_count, explode(df_result.attachments))"
   ]
  },
  {
   "cell_type": "code",
   "execution_count": 80,
   "id": "589e3dff-4537-454c-8839-46c9d70c819e",
   "metadata": {},
   "outputs": [],
   "source": [
    "# Get attachment type and name\n",
    "df_result2 = df_result2.select(df_result2.historyId, df_result2.uuid, df_result2.start, df_result2.stop, df_result2.description, df_result2.steps_count,\\\n",
    "                               df_result2['col.name'].alias('attach_name'), df_result2['col.source'].alias('attach_source'))"
   ]
  },
  {
   "cell_type": "code",
   "execution_count": 81,
   "id": "3207d1ac-0709-4811-b1a0-4b4f9055cebe",
   "metadata": {},
   "outputs": [
    {
     "name": "stdout",
     "output_type": "stream",
     "text": [
      "+--------------------+--------------------+-----------+-----------+-----------+--------------------+-------------------+-------------------+--------+\n",
      "|           historyId|                uuid|description|steps_count|attach_name|       attach_source|         start_date|          stop_date|time_dif|\n",
      "+--------------------+--------------------+-----------+-----------+-----------+--------------------+-------------------+-------------------+--------+\n",
      "|189e9f7a8cb436a35...|fa2259dc-8db5-47a...|        SEO|         71|   wdio-log|ddcaee06-2d6c-421...|2021-01-04 18:39:35|2021-01-04 18:40:03|  28.129|\n",
      "|189e9f7a8cb436a35...|fa2259dc-8db5-47a...|        SEO|         71|   test-log|33fa3e3a-3948-417...|2021-01-04 18:39:35|2021-01-04 18:40:03|  28.129|\n",
      "|4835592a049391492...|f4af646f-821c-4ea...|        SEO|         71|   wdio-log|5478b2f2-3a69-474...|2021-01-04 18:39:35|2021-01-04 18:40:02|  26.564|\n",
      "|4835592a049391492...|f4af646f-821c-4ea...|        SEO|         71|   test-log|f235d8a8-51d6-435...|2021-01-04 18:39:35|2021-01-04 18:40:02|  26.564|\n",
      "|e0e3d7850b3e748b3...|e83ab84e-b94d-473...|        SEO|         71|   wdio-log|fd686f7f-b444-4c2...|2021-01-04 18:39:35|2021-01-04 18:40:04|  29.278|\n",
      "|e0e3d7850b3e748b3...|e83ab84e-b94d-473...|        SEO|         71|   test-log|2950f201-b47d-4de...|2021-01-04 18:39:35|2021-01-04 18:40:04|  29.278|\n",
      "|65a0ce8472f7a5135...|825bc5e2-2b16-49d...|        SEO|         71|   wdio-log|c2992d9e-6ad6-4af...|2021-01-04 18:39:46|2021-01-04 18:40:07|  21.142|\n",
      "|65a0ce8472f7a5135...|825bc5e2-2b16-49d...|        SEO|         71|   test-log|bb89db69-3252-4cc...|2021-01-04 18:39:46|2021-01-04 18:40:07|  21.142|\n",
      "|02483bb2611816a55...|1105e77e-17f8-44e...|        SEO|         63|   wdio-log|ddd16674-b340-49f...|2021-01-04 18:39:31|2021-01-04 18:39:49|  18.792|\n",
      "|02483bb2611816a55...|1105e77e-17f8-44e...|        SEO|         63|   test-log|203a3123-0959-46a...|2021-01-04 18:39:31|2021-01-04 18:39:49|  18.792|\n",
      "|4bfe4106553ef98c1...|c2cfdc64-80bf-44b...|        SEO|         63|   wdio-log|46454d5b-f30a-410...|2021-01-04 18:39:17|2021-01-04 18:39:35|  17.223|\n",
      "|4bfe4106553ef98c1...|c2cfdc64-80bf-44b...|        SEO|         63|   test-log|0e18b10a-c848-481...|2021-01-04 18:39:17|2021-01-04 18:39:35|  17.223|\n",
      "|409cb67608e6b6ea3...|d5d4a7d7-1169-44c...|        SEO|         63|   wdio-log|c899add7-ceeb-4c8...|2021-01-04 18:39:13|2021-01-04 18:39:30|  17.083|\n",
      "|409cb67608e6b6ea3...|d5d4a7d7-1169-44c...|        SEO|         63|   test-log|93b71eed-d912-4bd...|2021-01-04 18:39:13|2021-01-04 18:39:30|  17.083|\n",
      "|de852c4dd94e5da0a...|3ab9c834-8284-4e8...|        SEO|         63|   wdio-log|7a341a14-0014-490...|2021-01-04 18:39:31|2021-01-04 18:39:47|  16.441|\n",
      "|de852c4dd94e5da0a...|3ab9c834-8284-4e8...|        SEO|         63|   test-log|0667fa73-80c4-47c...|2021-01-04 18:39:31|2021-01-04 18:39:47|  16.441|\n",
      "|20469ee5031db49c4...|6f7f6c07-ed4b-44a...|        SEO|         63|   wdio-log|40205e95-ebef-4fc...|2021-01-04 18:39:18|2021-01-04 18:39:35|  16.601|\n",
      "|20469ee5031db49c4...|6f7f6c07-ed4b-44a...|        SEO|         63|   test-log|51919bfe-e512-4a8...|2021-01-04 18:39:18|2021-01-04 18:39:35|  16.601|\n",
      "|bc8a1d5ff9379f5e6...|f878a44a-8e20-43e...|        SEO|         63|   wdio-log|390aa911-5945-466...|2021-01-04 18:39:14|2021-01-04 18:39:31|   16.56|\n",
      "|bc8a1d5ff9379f5e6...|f878a44a-8e20-43e...|        SEO|         63|   test-log|61138a59-067b-462...|2021-01-04 18:39:14|2021-01-04 18:39:31|   16.56|\n",
      "+--------------------+--------------------+-----------+-----------+-----------+--------------------+-------------------+-------------------+--------+\n",
      "only showing top 20 rows\n",
      "\n"
     ]
    }
   ],
   "source": [
    "# Unix timestamp to datetime \n",
    "df_result2 = df_result2.withColumn('start_date', from_unixtime((col('start')/1000)))\n",
    "df_result2 = df_result2.withColumn('stop_date', from_unixtime((col('stop')/1000)))\n",
    "df_result2 = df_result2.withColumn('time_dif', expr(\"(stop - start)/1000\"))\n",
    "columns_to_drop = ['start', 'stop']\n",
    "df_result2 = df_result2.drop(*columns_to_drop)\n",
    "df_result2.show()"
   ]
  },
  {
   "cell_type": "raw",
   "id": "5b01be5e-adb2-400d-8ed4-213a8159abbf",
   "metadata": {},
   "source": [
    "******* Attachment Data (txt) *******"
   ]
  },
  {
   "cell_type": "code",
   "execution_count": 43,
   "id": "d1cd7e75-e6b3-4c8f-aca7-f7904cd1ed97",
   "metadata": {},
   "outputs": [],
   "source": [
    "df_attachments = sc.wholeTextFiles('/Users/esau/Downloads/IOVIO/results/*.txt')\n",
    "df_attachments = df_attachments.toDF()\n",
    "df_attachments = df_attachments.withColumnRenamed('_1', 'file')\\\n",
    "                                .withColumnRenamed('_2', 'data')"
   ]
  },
  {
   "cell_type": "code",
   "execution_count": 44,
   "id": "a64494a1-d2f9-443d-a94a-7d040dfaa358",
   "metadata": {},
   "outputs": [
    {
     "name": "stdout",
     "output_type": "stream",
     "text": [
      "root\n",
      " |-- file: string (nullable = true)\n",
      " |-- data: string (nullable = true)\n",
      "\n",
      "+--------------------+--------------------+\n",
      "|                file|                data|\n",
      "+--------------------+--------------------+\n",
      "|file:/Users/esau/...|2021-01-05T00:45:...|\n",
      "|file:/Users/esau/...|2021-01-05T00:19:...|\n",
      "|file:/Users/esau/...|2021-01-05T00:13:...|\n",
      "|file:/Users/esau/...|2021-01-05T00:20:...|\n",
      "|file:/Users/esau/...|2021-01-04T23:53:...|\n",
      "|file:/Users/esau/...|{\n",
      "  \"paymentMetho...|\n",
      "|file:/Users/esau/...|2021-01-05T00:12:...|\n",
      "|file:/Users/esau/...|2021-01-05T01:15:...|\n",
      "|file:/Users/esau/...|2021-01-05T00:16:...|\n",
      "|file:/Users/esau/...|2021-01-05T00:12:...|\n",
      "|file:/Users/esau/...|2021-01-05T00:07:...|\n",
      "|file:/Users/esau/...|2021-01-04T23:51:...|\n",
      "|file:/Users/esau/...|2021-01-05T00:24:...|\n",
      "|file:/Users/esau/...|2021-01-05T00:19:...|\n",
      "|file:/Users/esau/...|2021-01-05T00:55:...|\n",
      "|file:/Users/esau/...|{\n",
      "  \"checkoutStep...|\n",
      "|file:/Users/esau/...|2021-01-05T00:16:...|\n",
      "|file:/Users/esau/...|2021-01-05T00:20:...|\n",
      "|file:/Users/esau/...|{\n",
      "  \"pagePath\": \"...|\n",
      "|file:/Users/esau/...|2021-01-04T23:57:...|\n",
      "+--------------------+--------------------+\n",
      "only showing top 20 rows\n",
      "\n"
     ]
    },
    {
     "data": {
      "text/plain": [
       "3537"
      ]
     },
     "execution_count": 44,
     "metadata": {},
     "output_type": "execute_result"
    }
   ],
   "source": [
    "df_attachments.printSchema()\n",
    "df_attachments.show()\n",
    "df_attachments.count()"
   ]
  },
  {
   "cell_type": "code",
   "execution_count": 45,
   "id": "25199f3c-b210-4327-9544-e77249c27f08",
   "metadata": {},
   "outputs": [
    {
     "name": "stdout",
     "output_type": "stream",
     "text": [
      "+--------------------+--------------------+--------------------+\n",
      "|                file|       attach_source|                data|\n",
      "+--------------------+--------------------+--------------------+\n",
      "|file:/Users/esau/...|000cc5a5-c127-43d...|2021-01-05T00:45:...|\n",
      "|file:/Users/esau/...|001f9167-d504-427...|2021-01-05T00:19:...|\n",
      "|file:/Users/esau/...|0023d6c8-7821-452...|2021-01-05T00:13:...|\n",
      "|file:/Users/esau/...|00245c47-ca80-4fa...|2021-01-05T00:20:...|\n",
      "|file:/Users/esau/...|00504b4f-3022-455...|2021-01-04T23:53:...|\n",
      "|file:/Users/esau/...|00611107-5e87-48f...|{\n",
      "  \"paymentMetho...|\n",
      "|file:/Users/esau/...|0065be4c-b397-4bc...|2021-01-05T00:12:...|\n",
      "|file:/Users/esau/...|0085b452-521e-431...|2021-01-05T01:15:...|\n",
      "|file:/Users/esau/...|00a2791a-6b36-421...|2021-01-05T00:16:...|\n",
      "|file:/Users/esau/...|00c0470e-2a0c-410...|2021-01-05T00:12:...|\n",
      "|file:/Users/esau/...|00c96c7e-ee06-45c...|2021-01-05T00:07:...|\n",
      "|file:/Users/esau/...|00dd1974-44bc-4bb...|2021-01-04T23:51:...|\n",
      "|file:/Users/esau/...|00fbc2b1-f329-4a0...|2021-01-05T00:24:...|\n",
      "|file:/Users/esau/...|010ccbe4-b2c6-4c1...|2021-01-05T00:19:...|\n",
      "|file:/Users/esau/...|010dbfbf-4648-4c8...|2021-01-05T00:55:...|\n",
      "|file:/Users/esau/...|010e9cb2-77c6-4f2...|{\n",
      "  \"checkoutStep...|\n",
      "|file:/Users/esau/...|012c09cc-b88a-45f...|2021-01-05T00:16:...|\n",
      "|file:/Users/esau/...|012c577c-33e1-481...|2021-01-05T00:20:...|\n",
      "|file:/Users/esau/...|0133823a-09e0-4d0...|{\n",
      "  \"pagePath\": \"...|\n",
      "|file:/Users/esau/...|0140719c-5475-4a6...|2021-01-04T23:57:...|\n",
      "+--------------------+--------------------+--------------------+\n",
      "only showing top 20 rows\n",
      "\n"
     ]
    }
   ],
   "source": [
    "# Getting filename\n",
    "df_attachments = df_attachments.select('file',\\\n",
    "                                substring('File', 42, 51).alias('attach_source'),\\\n",
    "                                'data')\n",
    "df_attachments.show()"
   ]
  },
  {
   "cell_type": "code",
   "execution_count": 46,
   "id": "ec3c3e59-f4e9-413a-a92d-0fad543f560b",
   "metadata": {},
   "outputs": [
    {
     "name": "stdout",
     "output_type": "stream",
     "text": [
      "+--------------------+--------------------+--------------------+---------+-------+\n",
      "|                file|       attach_source|                data|     str1|   str2|\n",
      "+--------------------+--------------------+--------------------+---------+-------+\n",
      "|file:/Users/esau/...|000cc5a5-c127-43d...|2021-01-05T00:45:...| STORE_ID|storeId|\n",
      "|file:/Users/esau/...|001f9167-d504-427...|2021-01-05T00:19:...| STORE_ID|storeId|\n",
      "|file:/Users/esau/...|0023d6c8-7821-452...|2021-01-05T00:13:...| STORE_ID|storeId|\n",
      "|file:/Users/esau/...|00245c47-ca80-4fa...|2021-01-05T00:20:...| STORE_ID|storeId|\n",
      "|file:/Users/esau/...|00504b4f-3022-455...|2021-01-04T23:53:...| STORE_ID|storeId|\n",
      "|file:/Users/esau/...|00611107-5e87-48f...|{\n",
      "  \"paymentMetho...| STORE_ID|storeId|\n",
      "|file:/Users/esau/...|0065be4c-b397-4bc...|2021-01-05T00:12:...| STORE_ID|storeId|\n",
      "|file:/Users/esau/...|0085b452-521e-431...|2021-01-05T01:15:...| STORE_ID|storeId|\n",
      "|file:/Users/esau/...|00a2791a-6b36-421...|2021-01-05T00:16:...| STORE_ID|storeId|\n",
      "|file:/Users/esau/...|00c0470e-2a0c-410...|2021-01-05T00:12:...| STORE_ID|storeId|\n",
      "|file:/Users/esau/...|00c96c7e-ee06-45c...|2021-01-05T00:07:...| STORE_ID|storeId|\n",
      "|file:/Users/esau/...|00dd1974-44bc-4bb...|2021-01-04T23:51:...| STORE_ID|storeId|\n",
      "|file:/Users/esau/...|00fbc2b1-f329-4a0...|2021-01-05T00:24:...| STORE_ID|storeId|\n",
      "|file:/Users/esau/...|010ccbe4-b2c6-4c1...|2021-01-05T00:19:...| STORE_ID|storeId|\n",
      "|file:/Users/esau/...|010dbfbf-4648-4c8...|2021-01-05T00:55:...| STORE_ID|storeId|\n",
      "|file:/Users/esau/...|010e9cb2-77c6-4f2...|{\n",
      "  \"checkoutStep...| STORE_ID|storeId|\n",
      "|file:/Users/esau/...|012c09cc-b88a-45f...|2021-01-05T00:16:...| STORE_ID|storeId|\n",
      "|file:/Users/esau/...|012c577c-33e1-481...|2021-01-05T00:20:...| STORE_ID|storeId|\n",
      "|file:/Users/esau/...|0133823a-09e0-4d0...|{\n",
      "  \"pagePath\": \"...| STORE_ID|storeId|\n",
      "|file:/Users/esau/...|0140719c-5475-4a6...|2021-01-04T23:57:...| STORE_ID|storeId|\n",
      "+--------------------+--------------------+--------------------+---------+-------+\n",
      "only showing top 20 rows\n",
      "\n"
     ]
    }
   ],
   "source": [
    "# Creating new columns with the string to match\n",
    "df_attachments = df_attachments.withColumn('str1', lit(' STORE_ID'))\n",
    "df_attachments = df_attachments.withColumn('str2', lit('storeId'))\n",
    "df_attachments.show()"
   ]
  },
  {
   "cell_type": "code",
   "execution_count": 47,
   "id": "d37d6c44-9be1-44d5-8f2e-9518cdb96765",
   "metadata": {},
   "outputs": [
    {
     "name": "stdout",
     "output_type": "stream",
     "text": [
      "+--------------------+--------------------+--------------------+---------+-------+------------+-------------+\n",
      "|                file|       attach_source|                data|     str1|   str2|store_id_idx|store_id_idx2|\n",
      "+--------------------+--------------------+--------------------+---------+-------+------------+-------------+\n",
      "|file:/Users/esau/...|000cc5a5-c127-43d...|2021-01-05T00:45:...| STORE_ID|storeId|          -1|          705|\n",
      "|file:/Users/esau/...|001f9167-d504-427...|2021-01-05T00:19:...| STORE_ID|storeId|          -1|           -1|\n",
      "|file:/Users/esau/...|0023d6c8-7821-452...|2021-01-05T00:13:...| STORE_ID|storeId|          -1|           -1|\n",
      "|file:/Users/esau/...|00245c47-ca80-4fa...|2021-01-05T00:20:...| STORE_ID|storeId|          -1|        40428|\n",
      "|file:/Users/esau/...|00504b4f-3022-455...|2021-01-04T23:53:...| STORE_ID|storeId|         649|           -1|\n",
      "|file:/Users/esau/...|00611107-5e87-48f...|{\n",
      "  \"paymentMetho...| STORE_ID|storeId|          -1|           -1|\n",
      "|file:/Users/esau/...|0065be4c-b397-4bc...|2021-01-05T00:12:...| STORE_ID|storeId|         605|           -1|\n",
      "|file:/Users/esau/...|0085b452-521e-431...|2021-01-05T01:15:...| STORE_ID|storeId|         726|           -1|\n",
      "|file:/Users/esau/...|00a2791a-6b36-421...|2021-01-05T00:16:...| STORE_ID|storeId|          -1|           -1|\n",
      "|file:/Users/esau/...|00c0470e-2a0c-410...|2021-01-05T00:12:...| STORE_ID|storeId|         610|           -1|\n",
      "|file:/Users/esau/...|00c96c7e-ee06-45c...|2021-01-05T00:07:...| STORE_ID|storeId|         608|           -1|\n",
      "|file:/Users/esau/...|00dd1974-44bc-4bb...|2021-01-04T23:51:...| STORE_ID|storeId|         605|           -1|\n",
      "|file:/Users/esau/...|00fbc2b1-f329-4a0...|2021-01-05T00:24:...| STORE_ID|storeId|          -1|           -1|\n",
      "|file:/Users/esau/...|010ccbe4-b2c6-4c1...|2021-01-05T00:19:...| STORE_ID|storeId|          -1|           -1|\n",
      "|file:/Users/esau/...|010dbfbf-4648-4c8...|2021-01-05T00:55:...| STORE_ID|storeId|         608|           -1|\n",
      "|file:/Users/esau/...|010e9cb2-77c6-4f2...|{\n",
      "  \"checkoutStep...| STORE_ID|storeId|          -1|           -1|\n",
      "|file:/Users/esau/...|012c09cc-b88a-45f...|2021-01-05T00:16:...| STORE_ID|storeId|         646|           -1|\n",
      "|file:/Users/esau/...|012c577c-33e1-481...|2021-01-05T00:20:...| STORE_ID|storeId|          -1|           -1|\n",
      "|file:/Users/esau/...|0133823a-09e0-4d0...|{\n",
      "  \"pagePath\": \"...| STORE_ID|storeId|          -1|           -1|\n",
      "|file:/Users/esau/...|0140719c-5475-4a6...|2021-01-04T23:57:...| STORE_ID|storeId|          -1|          696|\n",
      "+--------------------+--------------------+--------------------+---------+-------+------------+-------------+\n",
      "only showing top 20 rows\n",
      "\n"
     ]
    }
   ],
   "source": [
    "# Gettin start index of the string to match\n",
    "df_stores_ids = df_attachments.withColumn('store_id_idx', expr('locate(str1, data) - 1'))\n",
    "df_stores_ids = df_stores_ids.withColumn('store_id_idx2', expr('locate(str2, data) - 1'))\n",
    "df_stores_ids.show()"
   ]
  },
  {
   "cell_type": "code",
   "execution_count": 48,
   "id": "a5a4f90e-4b02-47be-897b-75b93b61e29d",
   "metadata": {},
   "outputs": [],
   "source": [
    "# Filter rows where string not found\n",
    "df_stores_ids2 = df_stores_ids.filter(((col('store_id_idx') != -1) | (col('store_id_idx2') != -1)))"
   ]
  },
  {
   "cell_type": "code",
   "execution_count": 49,
   "id": "d5d8bcc5-04e4-41e5-a5df-7eb48fbb4024",
   "metadata": {},
   "outputs": [],
   "source": [
    "# Integrating start index in a single column\n",
    "df_stores_ids2 = df_stores_ids2.withColumn('store_id', when(df_stores_ids2.store_id_idx > -1,\\\n",
    "                                                            df_stores_ids2['data'].substr(col('store_id_idx') + 12, lit(5))).\\\n",
    "                                                            otherwise(df_stores_ids2['data'].substr(col('store_id_idx2') + 9, lit(5))))"
   ]
  },
  {
   "cell_type": "code",
   "execution_count": 50,
   "id": "3adda73c-8495-41c1-aec9-7683a3fcb989",
   "metadata": {},
   "outputs": [],
   "source": [
    "# Delete columns\n",
    "columns_to_drop = ['file', 'data', 'str1', 'str2', 'store_id_idx', 'store_id_idx2']\n",
    "df_stores_ids2 = df_stores_ids2.drop(*columns_to_drop)"
   ]
  },
  {
   "cell_type": "code",
   "execution_count": 51,
   "id": "e663c081-a755-428b-908c-e15306bdb78f",
   "metadata": {},
   "outputs": [
    {
     "name": "stdout",
     "output_type": "stream",
     "text": [
      "+---------------------------------------------------+--------+\n",
      "|attach_source                                      |store_id|\n",
      "+---------------------------------------------------+--------+\n",
      "|000cc5a5-c127-43d4-af79-f4d4418447ff-attachment.txt|20006   |\n",
      "|00245c47-ca80-4fa9-a55d-8aea8f42a788-attachment.txt|20017   |\n",
      "|00504b4f-3022-4555-866a-33aa1ad7a5ff-attachment.txt|20017   |\n",
      "|0065be4c-b397-4bc5-bda5-c029f836db02-attachment.txt|20027   |\n",
      "|0085b452-521e-431f-851a-81e7edbb680c-attachment.txt|20006   |\n",
      "|00c0470e-2a0c-4104-817f-8dd371cbf459-attachment.txt|20006   |\n",
      "|00c96c7e-ee06-45cb-a552-f6a7b5f5fb65-attachment.txt|20006   |\n",
      "|00dd1974-44bc-4bb6-91fb-a74d64b4d7c6-attachment.txt|20006   |\n",
      "|010dbfbf-4648-4c8a-8287-1dadfddcc26b-attachment.txt|20006   |\n",
      "|012c09cc-b88a-45f6-8815-c25be6167ef8-attachment.txt|20006   |\n",
      "|0140719c-5475-4a6b-bcb1-9e799fc46faa-attachment.txt|20006   |\n",
      "|01409134-db6c-45fe-b631-0b493243dfcd-attachment.txt|20006   |\n",
      "|01499fb0-0908-49db-a4d2-854fc9326167-attachment.txt|20006   |\n",
      "|015323bb-3e3f-4171-a2f5-709d7ae17874-attachment.txt|20027   |\n",
      "|01532d4e-e48d-49f9-94e8-7ed5fde55dfc-attachment.txt|20006   |\n",
      "|01595d8e-d851-44bf-bffc-0a6d38a10697-attachment.txt|20006   |\n",
      "|016af80d-15d8-4300-b7cc-a7ecceac8dac-attachment.txt|20006   |\n",
      "|0176fe59-07d7-4bbc-b9f9-95a19a69b7cb-attachment.txt|20006   |\n",
      "|019fa6fb-cb7e-4557-93b1-38853469d8ca-attachment.txt|20024   |\n",
      "|01b96b95-10d3-4143-81ec-9af71bb2fe3f-attachment.txt|20012   |\n",
      "+---------------------------------------------------+--------+\n",
      "only showing top 20 rows\n",
      "\n"
     ]
    },
    {
     "data": {
      "text/plain": [
       "2477"
      ]
     },
     "execution_count": 51,
     "metadata": {},
     "output_type": "execute_result"
    }
   ],
   "source": [
    "df_stores_ids2.show(20, False)\n",
    "df_stores_ids2.count()"
   ]
  },
  {
   "cell_type": "code",
   "execution_count": 82,
   "id": "15e62ad8-8b36-4c87-9194-8edd766be9b7",
   "metadata": {},
   "outputs": [
    {
     "name": "stdout",
     "output_type": "stream",
     "text": [
      "+--------------------+--------------------+--------------------+-----------+-----------+--------------------+-------------------+-------------------+--------+\n",
      "|           historyId|                uuid|         description|steps_count|attach_name|       attach_source|         start_date|          stop_date|time_dif|\n",
      "+--------------------+--------------------+--------------------+-----------+-----------+--------------------+-------------------+-------------------+--------+\n",
      "|189e9f7a8cb436a35...|fa2259dc-8db5-47a...|                 SEO|         71|   test-log|33fa3e3a-3948-417...|2021-01-04 18:39:35|2021-01-04 18:40:03|  28.129|\n",
      "|4835592a049391492...|f4af646f-821c-4ea...|                 SEO|         71|   test-log|f235d8a8-51d6-435...|2021-01-04 18:39:35|2021-01-04 18:40:02|  26.564|\n",
      "|e0e3d7850b3e748b3...|e83ab84e-b94d-473...|                 SEO|         71|   test-log|2950f201-b47d-4de...|2021-01-04 18:39:35|2021-01-04 18:40:04|  29.278|\n",
      "|65a0ce8472f7a5135...|825bc5e2-2b16-49d...|                 SEO|         71|   test-log|bb89db69-3252-4cc...|2021-01-04 18:39:46|2021-01-04 18:40:07|  21.142|\n",
      "|02483bb2611816a55...|1105e77e-17f8-44e...|                 SEO|         63|   test-log|203a3123-0959-46a...|2021-01-04 18:39:31|2021-01-04 18:39:49|  18.792|\n",
      "|4bfe4106553ef98c1...|c2cfdc64-80bf-44b...|                 SEO|         63|   test-log|0e18b10a-c848-481...|2021-01-04 18:39:17|2021-01-04 18:39:35|  17.223|\n",
      "|409cb67608e6b6ea3...|d5d4a7d7-1169-44c...|                 SEO|         63|   test-log|93b71eed-d912-4bd...|2021-01-04 18:39:13|2021-01-04 18:39:30|  17.083|\n",
      "|de852c4dd94e5da0a...|3ab9c834-8284-4e8...|                 SEO|         63|   test-log|0667fa73-80c4-47c...|2021-01-04 18:39:31|2021-01-04 18:39:47|  16.441|\n",
      "|20469ee5031db49c4...|6f7f6c07-ed4b-44a...|                 SEO|         63|   test-log|51919bfe-e512-4a8...|2021-01-04 18:39:18|2021-01-04 18:39:35|  16.601|\n",
      "|bc8a1d5ff9379f5e6...|f878a44a-8e20-43e...|                 SEO|         63|   test-log|61138a59-067b-462...|2021-01-04 18:39:14|2021-01-04 18:39:31|   16.56|\n",
      "|409305f3508260459...|724de29e-bddf-40b...|                 SEO|         63|   test-log|2aa9c0d6-57cc-490...|2021-01-04 18:39:15|2021-01-04 18:39:30|  14.775|\n",
      "|3806b886af723f2ce...|d9a11dc3-a8eb-480...|                 SEO|         63|   test-log|eedcaaa9-7543-4d1...|2021-01-04 18:39:22|2021-01-04 18:39:35|  12.982|\n",
      "|e69b2289281a1a487...|7bff6060-9335-492...|                 SEO|         63|   test-log|566b10c4-fba9-4f8...|2021-01-04 18:39:15|2021-01-04 18:40:39|  83.164|\n",
      "|06321076d6fce9d47...|8f7e30d8-cb7c-4f1...|                 SEO|         63|   test-log|aa915e4c-cf03-432...|2021-01-04 18:39:30|2021-01-04 18:39:46|  16.078|\n",
      "|b6ab87cf6cee73d54...|ff6c53ff-bd70-43c...|CSR Update custom...|         19|   test-log|ef867726-e4d7-450...|2021-01-04 18:08:58|2021-01-04 18:09:35|  37.185|\n",
      "|e96cb490fc9694270...|6b83f97b-1c7b-40f...|CSR Shop as a gue...|         53|   test-log|3d0a9327-3bce-432...|2021-01-04 18:05:58|2021-01-04 18:07:24|  85.887|\n",
      "|e96cb490fc9694270...|e9975f73-1c8d-4d4...|CSR Shop as a gue...|         53|   test-log|228eb970-9919-450...|2021-01-04 19:14:08|2021-01-04 19:15:18|   70.09|\n",
      "|e96cb490fc9694270...|ee8c26f2-4095-4e4...|CSR Shop as a gue...|         53|   test-log|de441ad1-96ef-474...|2021-01-04 19:27:54|2021-01-04 19:29:09|  74.687|\n",
      "|6655fc4535a277b8c...|5ea97bf1-31b4-44f...|       CSR Base Test|         49|   test-log|3b294ddd-8749-499...|2021-01-04 18:03:53|2021-01-04 18:04:18|    24.8|\n",
      "|6655fc4535a277b8c...|830bf11d-1cde-499...|       CSR Base Test|         49|   test-log|f76704b8-cb7c-4c3...|2021-01-04 19:13:38|2021-01-04 19:14:26|  48.079|\n",
      "+--------------------+--------------------+--------------------+-----------+-----------+--------------------+-------------------+-------------------+--------+\n",
      "only showing top 20 rows\n",
      "\n"
     ]
    },
    {
     "data": {
      "text/plain": [
       "1722"
      ]
     },
     "execution_count": 82,
     "metadata": {},
     "output_type": "execute_result"
    }
   ],
   "source": [
    "# Considering only the attachments type 'test-log'\n",
    "df_analytics = df_result2.filter(df_result2.attach_name == 'test-log')\n",
    "df_analytics.show()\n",
    "df_analytics.count()"
   ]
  },
  {
   "cell_type": "code",
   "execution_count": 83,
   "id": "df900fc9-4749-4bc4-b378-f6b001fdc390",
   "metadata": {},
   "outputs": [
    {
     "name": "stdout",
     "output_type": "stream",
     "text": [
      "+--------------------+--------------------+--------------------+--------------------+-----------+-----------+-------------------+-------------------+--------+--------+\n",
      "|       attach_source|           historyId|                uuid|         description|steps_count|attach_name|         start_date|          stop_date|time_dif|store_id|\n",
      "+--------------------+--------------------+--------------------+--------------------+-----------+-----------+-------------------+-------------------+--------+--------+\n",
      "|00504b4f-3022-455...|53e2cf853561dc0a7...|6eb6b21a-1263-419...|Payment Page - Bi...|         13|   test-log|2021-01-04 17:53:10|2021-01-04 17:53:41|    30.4|   20017|\n",
      "|0065be4c-b397-4bc...|00303848cd5f360ed...|0398ae5b-de12-4e8...|Customer service ...|          4|   test-log|2021-01-04 18:12:44|2021-01-04 18:12:56|  11.882|   20027|\n",
      "|0085b452-521e-431...|9987efb6f9b53c568...|cebc7443-8246-447...|   Country Selection|         11|   test-log|2021-01-04 19:15:57|2021-01-04 19:16:12|  15.155|   20006|\n",
      "|00c0470e-2a0c-410...|1cbeebb9c630af373...|3536a7fd-8649-472...|             Cookies|         12|   test-log|2021-01-04 18:12:52|2021-01-04 18:12:59|   6.655|   20006|\n",
      "|00c96c7e-ee06-45c...|32dec5cb3e7435df5...|77bfc7ef-4c71-440...|CSR Shop as a gue...|         31|   test-log|2021-01-04 18:07:11|2021-01-04 18:07:56|  44.957|   20006|\n",
      "|00dd1974-44bc-4bb...|1e4a9694cf29b6d3b...|a7a8e23c-4674-477...|Checkout - Order ...|         23|   test-log|2021-01-04 17:51:55|2021-01-04 17:52:53|  57.825|   20006|\n",
      "|010dbfbf-4648-4c8...|4b68956d79fcdfd73...|e4f01594-6cc1-48d...|  Datalayer - events|         35|   test-log|2021-01-04 18:55:53|2021-01-04 18:56:14|  20.092|   20006|\n",
      "|012c09cc-b88a-45f...|ee3f58499c2cb7162...|1c230dec-7712-4c8...|Footer Elements A...|         18|   test-log|2021-01-04 18:16:17|2021-01-04 18:16:37|  19.955|   20006|\n",
      "|01409134-db6c-45f...|115da7c1a297f217f...|43330366-2c2d-424...|     Peerius Modules|         13|   test-log|2021-01-04 18:28:19|2021-01-04 18:28:41|  22.476|   20006|\n",
      "|01499fb0-0908-49d...|ffeca518d68f3c45d...|60cc052e-23f9-4eb...|CSR Shop as a gue...|         24|   test-log|2021-01-04 18:06:07|2021-01-04 18:07:02|  55.496|   20006|\n",
      "|016af80d-15d8-430...|40285ca7151294866...|6ce3d691-9140-470...|       Wishlist page|          7|   test-log|2021-01-04 18:48:56|2021-01-04 18:49:08|   11.77|   20006|\n",
      "|019fa6fb-cb7e-455...|f83f03d1ef34a9717...|e7f49df6-c90a-476...|Cross Site - Payp...|          5|   test-log|2021-01-04 19:07:53|2021-01-04 19:09:17|  84.595|   20024|\n",
      "|01b96b95-10d3-414...|b64c8042573949fd1...|da757cf9-bffe-4f2...|Cross Site - Cred...|         20|   test-log|2021-01-04 19:06:21|2021-01-04 19:07:02|  41.676|   20012|\n",
      "|021a3a13-9cff-4fa...|3fe07ce6a6dfa018a...|614efc3c-e96e-40e...|  Datalayer - events|         12|   test-log|2021-01-04 18:56:09|2021-01-04 18:56:23|  14.007|   20006|\n",
      "|02567f43-2476-481...|7e8f0310843bb9214...|747ed20b-fc4f-4a9...|       Wishlist page|         19|   test-log|2021-01-04 18:49:49|2021-01-04 18:50:15|  25.888|   20006|\n",
      "|0258f9b8-e8a5-453...|99c78919d325f8dd2...|350ebfa1-5a69-486...|Payment Page - Cr...|         14|   test-log|2021-01-04 17:54:30|2021-01-04 17:55:09|   39.89|   20014|\n",
      "|025fd142-a348-43a...|049c855484be0d24b...|86fc479f-d833-425...|Cross Site - Cred...|         13|   test-log|2021-01-04 19:04:54|2021-01-04 19:05:35|  40.969|   20005|\n",
      "|026ee65d-ee1b-404...|ebd293458e49233a1...|2209ef79-5f3c-44e...|Delivery Page - D...|         14|   test-log|2021-01-04 17:49:16|2021-01-04 17:49:42|  25.729|   20006|\n",
      "|0279cf27-459e-446...|4c884df1c552263e2...|ebaa2f0b-1dae-429...| CSR Advanced Search|         12|   test-log|2021-01-04 18:01:10|2021-01-04 18:01:40|  30.637|   20006|\n",
      "|028cb1dc-4ef0-4ea...|f7d79f1548471b4e3...|347425cb-be64-4f4...|Checkout - Low on...|          9|   test-log|2021-01-04 17:51:02|2021-01-04 17:51:47|  45.155|   20027|\n",
      "+--------------------+--------------------+--------------------+--------------------+-----------+-----------+-------------------+-------------------+--------+--------+\n",
      "only showing top 20 rows\n",
      "\n"
     ]
    },
    {
     "data": {
      "text/plain": [
       "1721"
      ]
     },
     "execution_count": 83,
     "metadata": {},
     "output_type": "execute_result"
    }
   ],
   "source": [
    "# Join Results with Logs to get STORE_ID\n",
    "df_analytics2 = df_analytics.join(df_stores_ids2, ['attach_source'], 'inner')\n",
    "df_analytics2.show()\n",
    "df_analytics2.count()"
   ]
  },
  {
   "cell_type": "code",
   "execution_count": 87,
   "id": "defea0da-1475-4d4e-9084-8df4226730aa",
   "metadata": {},
   "outputs": [
    {
     "data": {
      "text/plain": [
       "1721"
      ]
     },
     "execution_count": 87,
     "metadata": {},
     "output_type": "execute_result"
    }
   ],
   "source": [
    "df_analytics2.groupBy('historyId')"
   ]
  },
  {
   "cell_type": "code",
   "execution_count": 89,
   "id": "1d36d0b4-f120-4d46-977d-6a14de44eb4e",
   "metadata": {},
   "outputs": [
    {
     "name": "stdout",
     "output_type": "stream",
     "text": [
      "+--------+----------------+\n",
      "|store_id|count_test_cases|\n",
      "+--------+----------------+\n",
      "|20006   |673             |\n",
      "|20002   |289             |\n",
      "|20017   |119             |\n",
      "|20027   |94              |\n",
      "|20023   |58              |\n",
      "|20019   |41              |\n",
      "|20004   |38              |\n",
      "|20014   |25              |\n",
      "|20020   |24              |\n",
      "|20015   |20              |\n",
      "|20005   |17              |\n",
      "|20021   |11              |\n",
      "|20011   |11              |\n",
      "|20009   |10              |\n",
      "|20018   |8               |\n",
      "|20007   |8               |\n",
      "|20001   |8               |\n",
      "|20016   |7               |\n",
      "|20010   |6               |\n",
      "|20022   |6               |\n",
      "|20026   |6               |\n",
      "|20003   |6               |\n",
      "|20024   |6               |\n",
      "|20025   |6               |\n",
      "|20008   |6               |\n",
      "|20012   |6               |\n",
      "|20013   |6               |\n",
      "+--------+----------------+\n",
      "\n"
     ]
    }
   ],
   "source": [
    "# 1. How many test cases are executed per locale?\n",
    "\n",
    "df_analytics2.groupBy('store_id').agg(countDistinct('historyId').alias('count_test_cases')).orderBy(col('count_test_cases').desc()).show(50, truncate=False)\n",
    "\n",
    "'''\n",
    "+--------+----------------+\n",
    "|store_id|count_test_cases|\n",
    "+--------+----------------+\n",
    "|20006   |673             |\n",
    "|20002   |289             |\n",
    "|20017   |119             |\n",
    "|20027   |94              |\n",
    "|20023   |58              |\n",
    "|20019   |41              |\n",
    "|20004   |38              |\n",
    "|20014   |25              |\n",
    "|20020   |24              |\n",
    "|20015   |20              |\n",
    "|20005   |17              |\n",
    "|20021   |11              |\n",
    "|20011   |11              |\n",
    "|20009   |10              |\n",
    "|20018   |8               |\n",
    "|20007   |8               |\n",
    "|20001   |8               |\n",
    "|20016   |7               |\n",
    "|20010   |6               |\n",
    "|20022   |6               |\n",
    "|20026   |6               |\n",
    "|20003   |6               |\n",
    "|20024   |6               |\n",
    "|20025   |6               |\n",
    "|20008   |6               |\n",
    "|20012   |6               |\n",
    "|20013   |6               |\n",
    "+--------+----------------+\n",
    "'''"
   ]
  },
  {
   "cell_type": "code",
   "execution_count": 85,
   "id": "1b10eb0c-bf04-47a3-a022-4b6d3a5075a0",
   "metadata": {},
   "outputs": [
    {
     "name": "stdout",
     "output_type": "stream",
     "text": [
      "+--------+--------------------+--------------------+--------------------+--------------------+-----------+-----------+-------------------+-------------------+--------+------------------+\n",
      "|store_id|       attach_source|           historyId|                uuid|         description|steps_count|attach_name|         start_date|          stop_date|time_dif|      test_manager|\n",
      "+--------+--------------------+--------------------+--------------------+--------------------+-----------+-----------+-------------------+-------------------+--------+------------------+\n",
      "|   20017|00504b4f-3022-455...|53e2cf853561dc0a7...|6eb6b21a-1263-419...|Payment Page - Bi...|         13|   test-log|2021-01-04 17:53:10|2021-01-04 17:53:41|    30.4|Gabriella Thompson|\n",
      "|   20027|0065be4c-b397-4bc...|00303848cd5f360ed...|0398ae5b-de12-4e8...|Customer service ...|          4|   test-log|2021-01-04 18:12:44|2021-01-04 18:12:56|  11.882|        Jose Lopez|\n",
      "|   20006|0085b452-521e-431...|9987efb6f9b53c568...|cebc7443-8246-447...|   Country Selection|         11|   test-log|2021-01-04 19:15:57|2021-01-04 19:16:12|  15.155|     Sharon Martin|\n",
      "|   20006|00c0470e-2a0c-410...|1cbeebb9c630af373...|3536a7fd-8649-472...|             Cookies|         12|   test-log|2021-01-04 18:12:52|2021-01-04 18:12:59|   6.655|     Sharon Martin|\n",
      "|   20006|00c96c7e-ee06-45c...|32dec5cb3e7435df5...|77bfc7ef-4c71-440...|CSR Shop as a gue...|         31|   test-log|2021-01-04 18:07:11|2021-01-04 18:07:56|  44.957|     Sharon Martin|\n",
      "|   20006|00dd1974-44bc-4bb...|1e4a9694cf29b6d3b...|a7a8e23c-4674-477...|Checkout - Order ...|         23|   test-log|2021-01-04 17:51:55|2021-01-04 17:52:53|  57.825|     Sharon Martin|\n",
      "|   20006|010dbfbf-4648-4c8...|4b68956d79fcdfd73...|e4f01594-6cc1-48d...|  Datalayer - events|         35|   test-log|2021-01-04 18:55:53|2021-01-04 18:56:14|  20.092|     Sharon Martin|\n",
      "|   20006|012c09cc-b88a-45f...|ee3f58499c2cb7162...|1c230dec-7712-4c8...|Footer Elements A...|         18|   test-log|2021-01-04 18:16:17|2021-01-04 18:16:37|  19.955|     Sharon Martin|\n",
      "|   20006|01409134-db6c-45f...|115da7c1a297f217f...|43330366-2c2d-424...|     Peerius Modules|         13|   test-log|2021-01-04 18:28:19|2021-01-04 18:28:41|  22.476|     Sharon Martin|\n",
      "|   20006|01499fb0-0908-49d...|ffeca518d68f3c45d...|60cc052e-23f9-4eb...|CSR Shop as a gue...|         24|   test-log|2021-01-04 18:06:07|2021-01-04 18:07:02|  55.496|     Sharon Martin|\n",
      "|   20006|016af80d-15d8-430...|40285ca7151294866...|6ce3d691-9140-470...|       Wishlist page|          7|   test-log|2021-01-04 18:48:56|2021-01-04 18:49:08|   11.77|     Sharon Martin|\n",
      "|   20024|019fa6fb-cb7e-455...|f83f03d1ef34a9717...|e7f49df6-c90a-476...|Cross Site - Payp...|          5|   test-log|2021-01-04 19:07:53|2021-01-04 19:09:17|  84.595| Benjamin Matthews|\n",
      "|   20012|01b96b95-10d3-414...|b64c8042573949fd1...|da757cf9-bffe-4f2...|Cross Site - Cred...|         20|   test-log|2021-01-04 19:06:21|2021-01-04 19:07:02|  41.676|    Carlos Sanchez|\n",
      "|   20006|021a3a13-9cff-4fa...|3fe07ce6a6dfa018a...|614efc3c-e96e-40e...|  Datalayer - events|         12|   test-log|2021-01-04 18:56:09|2021-01-04 18:56:23|  14.007|     Sharon Martin|\n",
      "|   20006|02567f43-2476-481...|7e8f0310843bb9214...|747ed20b-fc4f-4a9...|       Wishlist page|         19|   test-log|2021-01-04 18:49:49|2021-01-04 18:50:15|  25.888|     Sharon Martin|\n",
      "|   20014|0258f9b8-e8a5-453...|99c78919d325f8dd2...|350ebfa1-5a69-486...|Payment Page - Cr...|         14|   test-log|2021-01-04 17:54:30|2021-01-04 17:55:09|   39.89|   Rebecca Mullins|\n",
      "|   20005|025fd142-a348-43a...|049c855484be0d24b...|86fc479f-d833-425...|Cross Site - Cred...|         13|   test-log|2021-01-04 19:04:54|2021-01-04 19:05:35|  40.969|Gabriella Thompson|\n",
      "|   20006|026ee65d-ee1b-404...|ebd293458e49233a1...|2209ef79-5f3c-44e...|Delivery Page - D...|         14|   test-log|2021-01-04 17:49:16|2021-01-04 17:49:42|  25.729|     Sharon Martin|\n",
      "|   20006|0279cf27-459e-446...|4c884df1c552263e2...|ebaa2f0b-1dae-429...| CSR Advanced Search|         12|   test-log|2021-01-04 18:01:10|2021-01-04 18:01:40|  30.637|     Sharon Martin|\n",
      "|   20027|028cb1dc-4ef0-4ea...|f7d79f1548471b4e3...|347425cb-be64-4f4...|Checkout - Low on...|          9|   test-log|2021-01-04 17:51:02|2021-01-04 17:51:47|  45.155|        Jose Lopez|\n",
      "+--------+--------------------+--------------------+--------------------+--------------------+-----------+-----------+-------------------+-------------------+--------+------------------+\n",
      "only showing top 20 rows\n",
      "\n"
     ]
    },
    {
     "data": {
      "text/plain": [
       "1721"
      ]
     },
     "execution_count": 85,
     "metadata": {},
     "output_type": "execute_result"
    }
   ],
   "source": [
    "# Join Results & Logs With Users to get manager name\n",
    "\n",
    "df_analytics3 = df_analytics2.join(df_users, ['store_id'], 'inner')\n",
    "df_analytics3.show()\n",
    "df_analytics3.count()"
   ]
  },
  {
   "cell_type": "code",
   "execution_count": 91,
   "id": "55be2d7e-0a96-454e-a46b-56ee84198e60",
   "metadata": {},
   "outputs": [
    {
     "name": "stdout",
     "output_type": "stream",
     "text": [
      "+-------------+---------------+\n",
      "|test_manager |sum_total_steps|\n",
      "+-------------+---------------+\n",
      "|Sharon Martin|9096           |\n",
      "+-------------+---------------+\n",
      "only showing top 1 row\n",
      "\n"
     ]
    }
   ],
   "source": [
    "# 2. What is the name of the test manager who's test cases sum the highest number of steps, and how many steps put him/her in the top 1 position?\n",
    "\n",
    "df_analytics3.groupBy('test_manager').agg(sum('steps_count').alias('sum_total_steps')).orderBy(col('sum_total_steps').desc()).show(1, False)\n",
    "\n",
    "'''\n",
    "+-------------+---------------+\n",
    "|test_manager |sum_total_steps|\n",
    "+-------------+---------------+\n",
    "|Sharon Martin|9096           |\n",
    "+-------------+---------------+\n",
    "'''"
   ]
  },
  {
   "cell_type": "code",
   "execution_count": 97,
   "id": "66f5567d-aa33-4e03-b7c1-5000fd9e1ba7",
   "metadata": {},
   "outputs": [
    {
     "name": "stdout",
     "output_type": "stream",
     "text": [
      "+-----------------+\n",
      "|    avg(time_dif)|\n",
      "+-----------------+\n",
      "|29.80986635676936|\n",
      "+-----------------+\n",
      "\n"
     ]
    }
   ],
   "source": [
    "# 3. What is the average duration in seconds across all test cases?\n",
    "\n",
    "df_analytics3.groupBy().avg('time_dif').alias('test_avg_duration').show() \n",
    "\n",
    "'''\n",
    "+-----------------+\n",
    "|    avg(time_dif)|\n",
    "+-----------------+\n",
    "|29.80986635676936|\n",
    "+-----------------+\n",
    "'''"
   ]
  },
  {
   "cell_type": "code",
   "execution_count": 103,
   "id": "ba708136-5cda-4b61-87e2-02f34c58f88c",
   "metadata": {},
   "outputs": [
    {
     "name": "stdout",
     "output_type": "stream",
     "text": [
      "+-----------------------------+--------------+\n",
      "|description                  |count_of_tests|\n",
      "+-----------------------------+--------------+\n",
      "|Shopping Bag                 |136           |\n",
      "|Filters on PLP and search PLP|95            |\n",
      "|SEO                          |91            |\n",
      "|Datalayer - events           |81            |\n",
      "|PLP                          |73            |\n",
      "+-----------------------------+--------------+\n",
      "only showing top 5 rows\n",
      "\n"
     ]
    },
    {
     "data": {
      "text/plain": [
       "'\\n+--------------------+--------------+\\n|         description|count_of_tests|\\n+--------------------+--------------+\\n|        Shopping Bag|           136|\\n'"
      ]
     },
     "execution_count": 103,
     "metadata": {},
     "output_type": "execute_result"
    }
   ],
   "source": [
    "# 4. Which features contains the largest number across all test cases?\n",
    "\n",
    "df_analytics3.groupBy('description').agg(countDistinct('historyId').alias('count_of_tests')).orderBy(col('count_of_tests').desc()).show(5, False)\n",
    "\n",
    "'''\n",
    "+--------------------+--------------+\n",
    "|         description|count_of_tests|\n",
    "+--------------------+--------------+\n",
    "|        Shopping Bag|           136|\n",
    "'''"
   ]
  },
  {
   "cell_type": "code",
   "execution_count": null,
   "id": "d4c83ed9-a7d9-46b8-a1d8-1d599095c98b",
   "metadata": {},
   "outputs": [],
   "source": []
  }
 ],
 "metadata": {
  "kernelspec": {
   "display_name": "Python 3",
   "language": "python",
   "name": "python3"
  },
  "language_info": {
   "codemirror_mode": {
    "name": "ipython",
    "version": 3
   },
   "file_extension": ".py",
   "mimetype": "text/x-python",
   "name": "python",
   "nbconvert_exporter": "python",
   "pygments_lexer": "ipython3",
   "version": "3.9.5"
  }
 },
 "nbformat": 4,
 "nbformat_minor": 5
}
